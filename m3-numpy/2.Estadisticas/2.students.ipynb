{
 "cells": [
  {
   "cell_type": "code",
   "execution_count": 2,
   "metadata": {},
   "outputs": [],
   "source": [
    "import numpy as np"
   ]
  },
  {
   "cell_type": "code",
   "execution_count": 3,
   "metadata": {},
   "outputs": [
    {
     "data": {
      "text/plain": [
       "array([[-1, -1, -1, ..., 72, 72, 74],\n",
       "       [-1, -1, -1, ..., 69, 90, 88],\n",
       "       [-1, -1, -1, ..., 90, 95, 93],\n",
       "       ...,\n",
       "       [-1, -1, -1, ..., 59, 71, 65],\n",
       "       [-1, -1, -1, ..., 68, 78, 77],\n",
       "       [-1, -1, -1, ..., 77, 86, 86]])"
      ]
     },
     "execution_count": 3,
     "metadata": {},
     "output_type": "execute_result"
    }
   ],
   "source": [
    "dataset = np.genfromtxt('../../data/StudentsPerformance.csv', \n",
    "                        delimiter=',', \n",
    "                        skip_header=1, \n",
    "                        dtype=int)\n",
    "dataset"
   ]
  },
  {
   "cell_type": "code",
   "execution_count": 4,
   "metadata": {},
   "outputs": [],
   "source": [
    "write_scores = dataset[:, -1]\n",
    "read_scores = dataset[:, -2]\n",
    "math_scores = dataset[:, -3]"
   ]
  },
  {
   "attachments": {},
   "cell_type": "markdown",
   "metadata": {},
   "source": [
    "## Estadísticas"
   ]
  },
  {
   "cell_type": "code",
   "execution_count": 5,
   "metadata": {},
   "outputs": [],
   "source": [
    "# ..."
   ]
  },
  {
   "attachments": {},
   "cell_type": "markdown",
   "metadata": {},
   "source": [
    "## Categóricos\n",
    "\n",
    "Cargar todas las columnas del dataset csv en arrays distintos"
   ]
  },
  {
   "cell_type": "code",
   "execution_count": 6,
   "metadata": {},
   "outputs": [],
   "source": [
    "gender = np.genfromtxt('../../data/StudentsPerformance.csv', delimiter=',', skip_header=1, \n",
    "                       usecols=(0), dtype=str)\n",
    "race = np.genfromtxt('../../data/StudentsPerformance.csv', delimiter=',', skip_header=1, usecols=(1),dtype=str)\n",
    "parent_education = np.genfromtxt('../../data/StudentsPerformance.csv', delimiter=',', skip_header=1, usecols=(2),dtype=str)\n",
    "lunch = np.genfromtxt('../../data/StudentsPerformance.csv', delimiter=',', skip_header=1, usecols=(3),dtype=str)\n",
    "preparation = np.genfromtxt('../../data/StudentsPerformance.csv', delimiter=',', skip_header=1, usecols=(4),dtype=str)"
   ]
  },
  {
   "attachments": {},
   "cell_type": "markdown",
   "metadata": {},
   "source": [
    "Sacar valores únicos por cada columna"
   ]
  },
  {
   "cell_type": "code",
   "execution_count": 7,
   "metadata": {},
   "outputs": [
    {
     "name": "stdout",
     "output_type": "stream",
     "text": [
      "['female' 'male']\n",
      "['group A' 'group B' 'group C' 'group D' 'group E']\n",
      "[\"associate's degree\" \"bachelor's degree\" 'high school' \"master's degree\"\n",
      " 'some college' 'some high school']\n",
      "['free/reduced' 'standard']\n",
      "['completed' 'none']\n"
     ]
    }
   ],
   "source": [
    "print(np.unique(gender))\n",
    "print(np.unique(race))\n",
    "print(np.unique(parent_education))\n",
    "print(np.unique(lunch))\n",
    "print(np.unique(preparation))"
   ]
  },
  {
   "attachments": {},
   "cell_type": "markdown",
   "metadata": {},
   "source": [
    "Moda"
   ]
  },
  {
   "cell_type": "code",
   "execution_count": 8,
   "metadata": {},
   "outputs": [],
   "source": [
    "from scipy import stats"
   ]
  },
  {
   "cell_type": "code",
   "execution_count": 9,
   "metadata": {},
   "outputs": [
    {
     "name": "stdout",
     "output_type": "stream",
     "text": [
      "ModeResult(mode=array(['female'], dtype='<U6'), count=array([518]))\n",
      "ModeResult(mode=array(['group C'], dtype='<U7'), count=array([319]))\n",
      "ModeResult(mode=array(['some college'], dtype='<U18'), count=array([226]))\n",
      "ModeResult(mode=array(['standard'], dtype='<U12'), count=array([645]))\n",
      "ModeResult(mode=array(['none'], dtype='<U9'), count=array([642]))\n"
     ]
    },
    {
     "name": "stderr",
     "output_type": "stream",
     "text": [
      "C:\\Users\\funda\\AppData\\Local\\Temp\\ipykernel_6480\\2006625649.py:1: DeprecationWarning: Support for non-numeric arrays has been deprecated as of SciPy 1.9.0 and will be removed in 1.11.0. `pandas.DataFrame.mode` can be used instead, see https://pandas.pydata.org/docs/reference/api/pandas.DataFrame.mode.html.\n",
      "  print(stats.mode(gender, keepdims=True))\n",
      "C:\\Users\\funda\\AppData\\Local\\Temp\\ipykernel_6480\\2006625649.py:2: DeprecationWarning: Support for non-numeric arrays has been deprecated as of SciPy 1.9.0 and will be removed in 1.11.0. `pandas.DataFrame.mode` can be used instead, see https://pandas.pydata.org/docs/reference/api/pandas.DataFrame.mode.html.\n",
      "  print(stats.mode(race, keepdims=True))\n",
      "C:\\Users\\funda\\AppData\\Local\\Temp\\ipykernel_6480\\2006625649.py:3: DeprecationWarning: Support for non-numeric arrays has been deprecated as of SciPy 1.9.0 and will be removed in 1.11.0. `pandas.DataFrame.mode` can be used instead, see https://pandas.pydata.org/docs/reference/api/pandas.DataFrame.mode.html.\n",
      "  print(stats.mode(parent_education, keepdims=True))\n",
      "C:\\Users\\funda\\AppData\\Local\\Temp\\ipykernel_6480\\2006625649.py:4: DeprecationWarning: Support for non-numeric arrays has been deprecated as of SciPy 1.9.0 and will be removed in 1.11.0. `pandas.DataFrame.mode` can be used instead, see https://pandas.pydata.org/docs/reference/api/pandas.DataFrame.mode.html.\n",
      "  print(stats.mode(lunch, keepdims=True))\n",
      "C:\\Users\\funda\\AppData\\Local\\Temp\\ipykernel_6480\\2006625649.py:5: DeprecationWarning: Support for non-numeric arrays has been deprecated as of SciPy 1.9.0 and will be removed in 1.11.0. `pandas.DataFrame.mode` can be used instead, see https://pandas.pydata.org/docs/reference/api/pandas.DataFrame.mode.html.\n",
      "  print(stats.mode(preparation, keepdims=True))\n"
     ]
    }
   ],
   "source": [
    "print(stats.mode(gender, keepdims=True))\n",
    "print(stats.mode(race, keepdims=True))\n",
    "print(stats.mode(parent_education, keepdims=True))\n",
    "print(stats.mode(lunch, keepdims=True))\n",
    "print(stats.mode(preparation, keepdims=True))"
   ]
  },
  {
   "attachments": {},
   "cell_type": "markdown",
   "metadata": {},
   "source": [
    "Counts"
   ]
  },
  {
   "cell_type": "code",
   "execution_count": 10,
   "metadata": {},
   "outputs": [
    {
     "name": "stdout",
     "output_type": "stream",
     "text": [
      "(array(['female', 'male'], dtype='<U6'), array([518, 482], dtype=int64))\n",
      "<class 'tuple'>\n"
     ]
    }
   ],
   "source": [
    "print(np.unique(gender, return_counts=True))\n",
    "print(type(np.unique(gender, return_counts=True)))"
   ]
  },
  {
   "cell_type": "code",
   "execution_count": 11,
   "metadata": {},
   "outputs": [
    {
     "data": {
      "text/plain": [
       "array([518, 482], dtype=int64)"
      ]
     },
     "execution_count": 11,
     "metadata": {},
     "output_type": "execute_result"
    }
   ],
   "source": [
    "uniques, counts = np.unique(gender, return_counts=True)\n",
    "counts"
   ]
  },
  {
   "cell_type": "code",
   "execution_count": 12,
   "metadata": {},
   "outputs": [
    {
     "data": {
      "text/plain": [
       "{'female': 518, 'male': 482}"
      ]
     },
     "execution_count": 12,
     "metadata": {},
     "output_type": "execute_result"
    }
   ],
   "source": [
    "# zip permite concatenar elemento a elemento de estructuras distintas\n",
    "dict(zip(uniques, counts))"
   ]
  },
  {
   "cell_type": "code",
   "execution_count": 13,
   "metadata": {},
   "outputs": [
    {
     "data": {
      "text/plain": [
       "1000"
      ]
     },
     "execution_count": 13,
     "metadata": {},
     "output_type": "execute_result"
    }
   ],
   "source": [
    "# SELECT COUNT(*) from race\n",
    "len(race)"
   ]
  },
  {
   "cell_type": "code",
   "execution_count": 14,
   "metadata": {},
   "outputs": [
    {
     "data": {
      "text/plain": [
       "Counter({'group C': 319,\n",
       "         'group D': 262,\n",
       "         'group B': 190,\n",
       "         'group E': 140,\n",
       "         'group A': 89})"
      ]
     },
     "execution_count": 14,
     "metadata": {},
     "output_type": "execute_result"
    }
   ],
   "source": [
    "import collections\n",
    "\n",
    "collections.Counter(race)"
   ]
  },
  {
   "attachments": {},
   "cell_type": "markdown",
   "metadata": {},
   "source": [
    "## Correlación"
   ]
  },
  {
   "cell_type": "code",
   "execution_count": 15,
   "metadata": {},
   "outputs": [
    {
     "data": {
      "text/plain": [
       "array([[1.        , 0.81757966],\n",
       "       [0.81757966, 1.        ]])"
      ]
     },
     "execution_count": 15,
     "metadata": {},
     "output_type": "execute_result"
    }
   ],
   "source": [
    "np.corrcoef(math_scores, read_scores)"
   ]
  },
  {
   "attachments": {},
   "cell_type": "markdown",
   "metadata": {},
   "source": [
    "## Cuartiles y Percentiles"
   ]
  },
  {
   "cell_type": "code",
   "execution_count": 16,
   "metadata": {},
   "outputs": [
    {
     "name": "stdout",
     "output_type": "stream",
     "text": [
      "57.0\n",
      "66.0\n",
      "77.0\n"
     ]
    }
   ],
   "source": [
    "print(np.percentile(math_scores, 25))\n",
    "print(np.percentile(math_scores, 50))\n",
    "print(np.percentile(math_scores, 75))"
   ]
  },
  {
   "cell_type": "code",
   "execution_count": 17,
   "metadata": {},
   "outputs": [
    {
     "name": "stdout",
     "output_type": "stream",
     "text": [
      "47.0\n",
      "86.0\n"
     ]
    }
   ],
   "source": [
    "print(np.percentile(math_scores, 10))\n",
    "print(np.percentile(math_scores, 90))"
   ]
  },
  {
   "cell_type": "code",
   "execution_count": 18,
   "metadata": {},
   "outputs": [
    {
     "data": {
      "text/plain": [
       "array([ 90,  88,  88,  97,  88,  98,  87,  99,  91,  88,  87,  89,  87,\n",
       "        88,  88, 100,  96,  94,  97,  87,  87,  86,  88,  92,  89,  99,\n",
       "        88,  88,  97,  88,  86,  90,  99,  90,  87,  87,  88,  87,  86,\n",
       "        89,  86, 100, 100,  91,  90,  94,  95,  86,  91,  97,  92,  87,\n",
       "        96,  92,  91,  92,  94,  88,  95, 100, 100,  86,  90,  94,  93,\n",
       "        87,  89,  93,  98,  96,  91,  87,  92,  87,  94,  91,  89,  87,\n",
       "        90,  87,  94,  90,  91,  87,  97,  87,  97,  90,  93,  86,  88,\n",
       "        93,  88, 100,  91,  98,  94,  92, 100,  89,  91,  86,  88])"
      ]
     },
     "execution_count": 18,
     "metadata": {},
     "output_type": "execute_result"
    }
   ],
   "source": [
    "top_10 = math_scores >= np.percentile(math_scores, 90)\n",
    "math_top_10 = math_scores[top_10]\n",
    "math_top_10"
   ]
  },
  {
   "cell_type": "code",
   "execution_count": 19,
   "metadata": {},
   "outputs": [
    {
     "data": {
      "text/plain": [
       "20.0"
      ]
     },
     "execution_count": 19,
     "metadata": {},
     "output_type": "execute_result"
    }
   ],
   "source": [
    "Q1 = np.percentile(math_scores, 25)\n",
    "Q3 = np.percentile(math_scores, 75)\n",
    "\n",
    "IQR = Q3 - Q1\n",
    "IQR"
   ]
  },
  {
   "attachments": {},
   "cell_type": "markdown",
   "metadata": {},
   "source": [
    "## Reduce"
   ]
  },
  {
   "cell_type": "code",
   "execution_count": 20,
   "metadata": {},
   "outputs": [],
   "source": [
    "big_array = np.random.rand(100000000)"
   ]
  },
  {
   "cell_type": "code",
   "execution_count": 21,
   "metadata": {},
   "outputs": [
    {
     "name": "stdout",
     "output_type": "stream",
     "text": [
      "50001766.480590835\n",
      "CPU times: total: 10.9 s\n",
      "Wall time: 11.1 s\n"
     ]
    }
   ],
   "source": [
    "%%time\n",
    "suma = 0\n",
    "for score in big_array:\n",
    "    suma += score\n",
    "\n",
    "print(suma)"
   ]
  },
  {
   "cell_type": "code",
   "execution_count": 22,
   "metadata": {},
   "outputs": [
    {
     "name": "stdout",
     "output_type": "stream",
     "text": [
      "CPU times: total: 156 ms\n",
      "Wall time: 154 ms\n"
     ]
    },
    {
     "data": {
      "text/plain": [
       "50001766.48055609"
      ]
     },
     "execution_count": 22,
     "metadata": {},
     "output_type": "execute_result"
    }
   ],
   "source": [
    "%%time\n",
    "\n",
    "np.add.reduce(big_array)"
   ]
  },
  {
   "attachments": {},
   "cell_type": "markdown",
   "metadata": {},
   "source": [
    "## Filtros"
   ]
  },
  {
   "cell_type": "code",
   "execution_count": 62,
   "metadata": {},
   "outputs": [
    {
     "name": "stderr",
     "output_type": "stream",
     "text": [
      "C:\\Users\\funda\\AppData\\Local\\Temp\\ipykernel_6480\\80212930.py:1: VisibleDeprecationWarning: Reading unicode strings without specifying the encoding argument is deprecated. Set the encoding, use None for the system default.\n",
      "  data = gender = np.genfromtxt('../../data/StudentsPerformance.csv',\n"
     ]
    },
    {
     "data": {
      "text/plain": [
       "array([(b'female', b'group B', b\"bachelor's degree\", b'standard', b'none', 72, 72, 74),\n",
       "       (b'female', b'group C', b'some college', b'standard', b'completed', 69, 90, 88),\n",
       "       (b'female', b'group B', b\"master's degree\", b'standard', b'none', 90, 95, 93),\n",
       "       (b'male', b'group A', b\"associate's degree\", b'free/reduced', b'none', 47, 57, 44),\n",
       "       (b'male', b'group C', b'some college', b'standard', b'none', 76, 78, 75),\n",
       "       (b'female', b'group B', b\"associate's degree\", b'standard', b'none', 71, 83, 78),\n",
       "       (b'female', b'group B', b'some college', b'standard', b'completed', 88, 95, 92),\n",
       "       (b'male', b'group B', b'some college', b'free/reduced', b'none', 40, 43, 39),\n",
       "       (b'male', b'group D', b'high school', b'free/reduced', b'completed', 64, 64, 67),\n",
       "       (b'female', b'group B', b'high school', b'free/reduced', b'none', 38, 60, 50)],\n",
       "      dtype=[('f0', 'S6'), ('f1', 'S7'), ('f2', 'S18'), ('f3', 'S12'), ('f4', 'S9'), ('f5', '<i4'), ('f6', '<i4'), ('f7', '<i4')])"
      ]
     },
     "execution_count": 62,
     "metadata": {},
     "output_type": "execute_result"
    }
   ],
   "source": [
    "data = gender = np.genfromtxt('../../data/StudentsPerformance.csv', \n",
    "                              delimiter=',', \n",
    "                              skip_header=1, \n",
    "                              encoding='utf-8',\n",
    "                              dtype=None,\n",
    "                              usecols=(0, 1, 2, 3, 4, 5, 6, 7))\n",
    "data[:10]"
   ]
  },
  {
   "cell_type": "code",
   "execution_count": 55,
   "metadata": {},
   "outputs": [
    {
     "name": "stdout",
     "output_type": "stream",
     "text": [
      "2\n",
      "(1000, 8)\n"
     ]
    }
   ],
   "source": [
    "print(data.ndim)\n",
    "print(data.shape)"
   ]
  },
  {
   "cell_type": "code",
   "execution_count": 68,
   "metadata": {},
   "outputs": [
    {
     "data": {
      "text/plain": [
       "array([b'group B', b'group C', b'group B', b'group A', b'group C'],\n",
       "      dtype='|S7')"
      ]
     },
     "execution_count": 68,
     "metadata": {},
     "output_type": "execute_result"
    }
   ],
   "source": [
    "data['f1'][:5]"
   ]
  },
  {
   "cell_type": "code",
   "execution_count": 66,
   "metadata": {},
   "outputs": [],
   "source": [
    "def filter_by_race(data, race_group):\n",
    "    return data[data['f1'] == race_group]"
   ]
  },
  {
   "cell_type": "code",
   "execution_count": 67,
   "metadata": {},
   "outputs": [
    {
     "name": "stderr",
     "output_type": "stream",
     "text": [
      "C:\\Users\\funda\\AppData\\Local\\Temp\\ipykernel_6480\\1802360292.py:2: FutureWarning: elementwise comparison failed; returning scalar instead, but in the future will perform elementwise comparison\n",
      "  return data[data['f1'] == race_group]\n"
     ]
    },
    {
     "data": {
      "text/plain": [
       "array([], shape=(0, 1000),\n",
       "      dtype=[('f0', 'S6'), ('f1', 'S7'), ('f2', 'S18'), ('f3', 'S12'), ('f4', 'S9'), ('f5', '<i4'), ('f6', '<i4'), ('f7', '<i4')])"
      ]
     },
     "execution_count": 67,
     "metadata": {},
     "output_type": "execute_result"
    }
   ],
   "source": [
    "filter_by_race(data, 'group C')"
   ]
  },
  {
   "cell_type": "markdown",
   "metadata": {},
   "source": []
  },
  {
   "cell_type": "code",
   "execution_count": null,
   "metadata": {},
   "outputs": [],
   "source": [
    "# ordenar descendente por math_score\n",
    "indices = np.argsort(math_scores)[::-1]\n",
    "data[indices]"
   ]
  }
 ],
 "metadata": {
  "kernelspec": {
   "display_name": "Python 3",
   "language": "python",
   "name": "python3"
  },
  "language_info": {
   "codemirror_mode": {
    "name": "ipython",
    "version": 3
   },
   "file_extension": ".py",
   "mimetype": "text/x-python",
   "name": "python",
   "nbconvert_exporter": "python",
   "pygments_lexer": "ipython3",
   "version": "3.11.2"
  },
  "orig_nbformat": 4
 },
 "nbformat": 4,
 "nbformat_minor": 2
}
