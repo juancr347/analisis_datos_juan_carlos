{
 "cells": [
  {
   "attachments": {},
   "cell_type": "markdown",
   "metadata": {},
   "source": [
    "## Análisis de datos de ventas de videojuegos utilizando NumPy\n",
    "\n",
    "https://www.kaggle.com/gregorut/videogamesales\n",
    "\n",
    " El objetivo de este caso práctico es analizar un conjunto de datos de ventas de videojuegos utilizando NumPy para calcular estadísticas básicas, identificar tendencias y detectar patrones.\n",
    "\n",
    "\n",
    "\n",
    "Rank - Ranking of overall sales\n",
    "\n",
    "Name - The games name\n",
    "\n",
    "Platform - Platform of the games release (i.e. PC,PS4, etc.)\n",
    "\n",
    "Year - Year of the game's release\n",
    "\n",
    "Genre - Genre of the game\n",
    "\n",
    "Publisher - Publisher of the game\n",
    "\n",
    "NA_Sales - Sales in North America (in millions)\n",
    "\n",
    "EU_Sales - Sales in Europe (in millions)\n",
    "\n",
    "JP_Sales - Sales in Japan (in millions)\n",
    "\n",
    "Other_Sales - Sales in the rest of the world (in millions)\n",
    "\n",
    "Global_Sales - Total worldwide sales.\n"
   ]
  },
  {
   "attachments": {},
   "cell_type": "markdown",
   "metadata": {},
   "source": [
    "* cargar el archivo csv\n",
    "* Calcular ventas totales\n",
    "* Estadísticas básicas sobre ventas totales\n",
    "* Calcular ventas totales por plataforma y género\n",
    "* Ventas totales por año\n",
    "* Año con mayores ventas"
   ]
  },
  {
   "cell_type": "code",
   "execution_count": 64,
   "metadata": {},
   "outputs": [],
   "source": [
    "import numpy as np"
   ]
  },
  {
   "cell_type": "code",
   "execution_count": 124,
   "metadata": {},
   "outputs": [
    {
     "data": {
      "text/plain": [
       "(16598,)"
      ]
     },
     "execution_count": 124,
     "metadata": {},
     "output_type": "execute_result"
    }
   ],
   "source": [
    "names = np.genfromtxt('../../data/vgsales.csv', \n",
    "              usecols=(1), dtype=str, skip_header=1, delimiter=',')\n",
    "names.shape"
   ]
  },
  {
   "cell_type": "code",
   "execution_count": 159,
   "metadata": {},
   "outputs": [
    {
     "data": {
      "text/plain": [
       "(16598,)"
      ]
     },
     "execution_count": 159,
     "metadata": {},
     "output_type": "execute_result"
    }
   ],
   "source": [
    "platform = np.genfromtxt('../../data/vgsales.csv', \n",
    "              usecols=(2), dtype=str, skip_header=1, \n",
    "              delimiter=',')\n",
    "platform.shape"
   ]
  },
  {
   "cell_type": "code",
   "execution_count": 28,
   "metadata": {},
   "outputs": [
    {
     "data": {
      "text/plain": [
       "(16598,)"
      ]
     },
     "execution_count": 28,
     "metadata": {},
     "output_type": "execute_result"
    }
   ],
   "source": [
    "year = np.genfromtxt('../../data/vgsales.csv', \n",
    "              usecols=(3), dtype=int, skip_header=1, delimiter=',')\n",
    "year.shape"
   ]
  },
  {
   "cell_type": "code",
   "execution_count": 161,
   "metadata": {},
   "outputs": [
    {
     "data": {
      "text/plain": [
       "(16598,)"
      ]
     },
     "execution_count": 161,
     "metadata": {},
     "output_type": "execute_result"
    }
   ],
   "source": [
    "genres = np.genfromtxt('../../data/vgsales.csv', \n",
    "              usecols=(4), dtype=str, skip_header=1, delimiter=',')\n",
    "genres.shape"
   ]
  },
  {
   "cell_type": "code",
   "execution_count": 30,
   "metadata": {},
   "outputs": [
    {
     "data": {
      "text/plain": [
       "(16598,)"
      ]
     },
     "execution_count": 30,
     "metadata": {},
     "output_type": "execute_result"
    }
   ],
   "source": [
    "publishers = np.genfromtxt('../../data/vgsales.csv', \n",
    "              usecols=(5), dtype=str, skip_header=1, delimiter=',')\n",
    "publishers.shape"
   ]
  },
  {
   "cell_type": "code",
   "execution_count": 114,
   "metadata": {},
   "outputs": [
    {
     "data": {
      "text/plain": [
       "(16598, 4)"
      ]
     },
     "execution_count": 114,
     "metadata": {},
     "output_type": "execute_result"
    }
   ],
   "source": [
    "# NA_Sales,EU_Sales,JP_Sales,Other_Sales\n",
    "sales = np.genfromtxt('../../data/vgsales.csv', \n",
    "              usecols=(6, 7, 8, 9), dtype=float, skip_header=1, delimiter=',')\n",
    "sales.shape"
   ]
  },
  {
   "cell_type": "code",
   "execution_count": 109,
   "metadata": {},
   "outputs": [
    {
     "data": {
      "text/plain": [
       "array([[41.49, 29.02,  3.77,  8.46],\n",
       "       [29.08,  3.58,  6.81,  0.77],\n",
       "       [15.85, 12.88,  3.79,  3.31],\n",
       "       ...,\n",
       "       [ 0.  ,  0.  ,  0.  ,  0.  ],\n",
       "       [ 0.  ,  0.01,  0.  ,  0.  ],\n",
       "       [ 0.01,  0.  ,  0.  ,  0.  ]])"
      ]
     },
     "execution_count": 109,
     "metadata": {},
     "output_type": "execute_result"
    }
   ],
   "source": [
    "np.set_printoptions(suppress=True)\n",
    "sales"
   ]
  },
  {
   "cell_type": "code",
   "execution_count": 74,
   "metadata": {},
   "outputs": [
    {
     "data": {
      "text/plain": [
       "array([82.74, 40.24, 35.83, ...,  0.  ,  0.01,  0.01])"
      ]
     },
     "execution_count": 74,
     "metadata": {},
     "output_type": "execute_result"
    }
   ],
   "source": [
    "# Calcular ventas totales\n",
    "total_sales = np.sum(sales, axis=1)\n",
    "total_sales"
   ]
  },
  {
   "cell_type": "code",
   "execution_count": 77,
   "metadata": {},
   "outputs": [
    {
     "name": "stdout",
     "output_type": "stream",
     "text": [
      "nan\n",
      "nan\n",
      "nan\n",
      "nan\n",
      "nan\n"
     ]
    }
   ],
   "source": [
    "# estadísticas sobre total_sales\n",
    "print(f\"{np.mean(total_sales)}\")\n",
    "print(f\"{np.median(total_sales)}\")\n",
    "print(f\"{np.max(total_sales)}\")\n",
    "print(f\"{np.min(total_sales)}\")\n",
    "print(f\"{np.std(total_sales)}\")\n",
    "#sale nan porque sales tiene elementos nan, por tanto no se pueden calcular \n",
    "# estadísticas correctamente\n"
   ]
  },
  {
   "cell_type": "code",
   "execution_count": 83,
   "metadata": {},
   "outputs": [
    {
     "name": "stdout",
     "output_type": "stream",
     "text": [
      "Hay NaN: True\n",
      "Hay Infinito: False\n",
      "Hay Infinito neg: False\n"
     ]
    }
   ],
   "source": [
    "# Detectar si hay nan (missing values o valores faltantes):\n",
    "# isnan = np.isnan(total_sales)\n",
    "# isnan[isnan == True]\n",
    "\n",
    "print(f\"Hay NaN: {np.isnan(total_sales).any()}\")\n",
    "print(f\"Hay Infinito: {np.isinf(total_sales).any()}\")\n",
    "print(f\"Hay Infinito neg: {np.isneginf(total_sales).any()}\")"
   ]
  },
  {
   "cell_type": "code",
   "execution_count": 85,
   "metadata": {},
   "outputs": [
    {
     "data": {
      "text/plain": [
       "123"
      ]
     },
     "execution_count": 85,
     "metadata": {},
     "output_type": "execute_result"
    }
   ],
   "source": [
    "# Contar cuántos nan hay\n",
    "len(total_sales[np.isnan(total_sales)])"
   ]
  },
  {
   "cell_type": "code",
   "execution_count": 88,
   "metadata": {},
   "outputs": [
    {
     "name": "stdout",
     "output_type": "stream",
     "text": [
      "16598\n",
      "False\n"
     ]
    }
   ],
   "source": [
    "# Reemplazar por 0 o -1\n",
    "total_sales2 = np.nan_to_num(total_sales, nan=0)\n",
    "print(f\"{len(total_sales2)}\")\n",
    "print(f\"{np.isnan(total_sales2).any()}\") # False\n"
   ]
  },
  {
   "attachments": {},
   "cell_type": "markdown",
   "metadata": {},
   "source": [
    "axis=0: La operación se realiza a lo largo de las filas. En otras palabras, si tienes un array bidimensional (una matriz), axis=0 indica que la operación se realizará de forma independiente para cada columna, lo que resultará en un valor por columna. Por ejemplo, np.nanmean(sales, axis=0) calculará la media de cada columna, ignorando los NaN.\n",
    "\n",
    "axis=1: La operación se realiza a lo largo de las columnas. En un array bidimensional, axis=1 indica que la operación se realizará de forma independiente para cada fila, lo que resultará en un valor por fila. Por ejemplo, np.nanmean(sales, axis=1) calculará la media de cada fila, ignorando los NaN.\n",
    "\n",
    "Si no especificas el argumento axis, la operación se realizará en todos los elementos del array, independientemente de su forma. Por ejemplo, np.nanmean(sales) calcularía la media de todos los elementos en sales, ignorando los NaN."
   ]
  },
  {
   "cell_type": "code",
   "execution_count": 115,
   "metadata": {},
   "outputs": [
    {
     "name": "stdout",
     "output_type": "stream",
     "text": [
      "(16598, 4)\n",
      "True\n"
     ]
    }
   ],
   "source": [
    "print(sales.shape)\n",
    "print(np.isnan(sales).any()) # True significa que hay nulos"
   ]
  },
  {
   "cell_type": "code",
   "execution_count": 116,
   "metadata": {},
   "outputs": [],
   "source": [
    "# Calcular la media de cada columna ignorando los NaN\n",
    "mean_per_column = np.nanmean(sales, axis=0)\n",
    "\n",
    "# Crear una máscara booleana de los NaN en el array\n",
    "mask = np.isnan(sales) # Array de 4 columnas mask[:, 3]\n",
    "\n",
    "# Usar la máscara para reemplazar los NaN con la media de la columna correspondiente\n",
    "# shape: (16598, 4). shape[1] \n",
    "#           0    1\n",
    "for i in range(sales.shape[1]): # 0, 1, 2, 3\n",
    "    sales[mask[:, i], i] = mean_per_column[i]"
   ]
  },
  {
   "cell_type": "code",
   "execution_count": 117,
   "metadata": {},
   "outputs": [
    {
     "name": "stdout",
     "output_type": "stream",
     "text": [
      "(16598, 4)\n",
      "False\n"
     ]
    }
   ],
   "source": [
    "print(sales.shape)\n",
    "print(np.isnan(sales).any()) # False significa que no hay nan"
   ]
  },
  {
   "cell_type": "code",
   "execution_count": 118,
   "metadata": {},
   "outputs": [
    {
     "data": {
      "text/plain": [
       "array([82.74, 40.24, 35.83, ...,  0.  ,  0.01,  0.01])"
      ]
     },
     "execution_count": 118,
     "metadata": {},
     "output_type": "execute_result"
    }
   ],
   "source": [
    "# Calcular ventas totales\n",
    "total_sales = np.sum(sales, axis=1)\n",
    "total_sales"
   ]
  },
  {
   "cell_type": "code",
   "execution_count": 119,
   "metadata": {},
   "outputs": [
    {
     "name": "stdout",
     "output_type": "stream",
     "text": [
      "1.2698508442537844\n",
      "0.18\n",
      "2008.2250012846616\n",
      "0.0\n",
      "38.18775137708344\n"
     ]
    }
   ],
   "source": [
    "# estadísticas sobre total_sales\n",
    "print(f\"{np.mean(total_sales)}\")\n",
    "print(f\"{np.median(total_sales)}\")\n",
    "print(f\"{np.max(total_sales)}\")\n",
    "print(f\"{np.min(total_sales)}\")\n",
    "print(f\"{np.std(total_sales)}\")\n",
    "#sale nan porque sales tiene elementos nan, por tanto no se pueden calcular \n",
    "# estadísticas correctamente\n"
   ]
  },
  {
   "cell_type": "code",
   "execution_count": 145,
   "metadata": {},
   "outputs": [
    {
     "data": {
      "text/plain": [
       "array(['Wii Sports', 'Super Mario Bros.', 'Mario Kart Wii',\n",
       "       'Wii Sports Resort', 'Pokemon Red/Pokemon Blue', 'Tetris',\n",
       "       'New Super Mario Bros.', 'Wii Play', 'New Super Mario Bros. Wii',\n",
       "       'Duck Hunt'], dtype='<U132')"
      ]
     },
     "execution_count": 145,
     "metadata": {},
     "output_type": "execute_result"
    }
   ],
   "source": [
    "# Identificar los 10 videojuegos más vendidos\n",
    "total_sales = np.genfromtxt('../../data/vgsales.csv', \n",
    "              usecols=(10), dtype=float, skip_header=1, delimiter=',')\n",
    "\n",
    "indices = np.argsort(total_sales)[::-1]\n",
    "names[indices][:10]\n"
   ]
  },
  {
   "cell_type": "code",
   "execution_count": 170,
   "metadata": {},
   "outputs": [
    {
     "data": {
      "text/plain": [
       "array([' Yourself\"', '2600', '3DO', '3DS', 'Birth 2\"', 'Birth 3\"',\n",
       "       'Child\"', 'DC', 'DS', 'GB', 'GBA', 'GC', 'GEN', 'GG', 'Gate 0\"',\n",
       "       'Gate\"', 'Gate: Hiyoku Renri no Darling\"',\n",
       "       'Gate: Senkei Kousoku no Phonogram\"', 'Head - Love Chu*Chu!\"',\n",
       "       'Head Noah\"', 'N64', 'NES', 'NG', 'Notes\"', 'PC', 'PCFX', 'PS',\n",
       "       'PS2', 'PS3', 'PS4', 'PSP', 'PSV', 'SAT', 'SCD', 'SNES', 'TG16',\n",
       "       'WS', 'Wii', 'WiiU', 'X360', 'XB', 'XOne'], dtype='<U34')"
      ]
     },
     "execution_count": 170,
     "metadata": {},
     "output_type": "execute_result"
    }
   ],
   "source": [
    "# Calcular ventas totales por plataforma\n",
    "platform = np.genfromtxt('../../data/vgsales.csv', \n",
    "              usecols=(2), dtype=str, skip_header=1, delimiter=';', encoding=\"utf-8\")\n",
    "platform = np.unique(platform)\n",
    "platform"
   ]
  }
 ],
 "metadata": {
  "kernelspec": {
   "display_name": "Python 3",
   "language": "python",
   "name": "python3"
  },
  "language_info": {
   "codemirror_mode": {
    "name": "ipython",
    "version": 3
   },
   "file_extension": ".py",
   "mimetype": "text/x-python",
   "name": "python",
   "nbconvert_exporter": "python",
   "pygments_lexer": "ipython3",
   "version": "3.10.11"
  },
  "orig_nbformat": 4
 },
 "nbformat": 4,
 "nbformat_minor": 2
}
