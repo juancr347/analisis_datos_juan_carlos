{
 "cells": [
  {
   "attachments": {},
   "cell_type": "markdown",
   "metadata": {},
   "source": [
    "# Wine dataset\n",
    "\n",
    "https://archive-beta.ics.uci.edu/dataset/109/wine\n",
    "\n",
    "1) Alcohol\n",
    "2) Malic acid\n",
    "3) Ash\n",
    "4) Alcalinity of ash  \n",
    "5) Magnesium\n",
    "6) Total phenols\n",
    "7) Flavanoids\n",
    "8) Nonflavanoid phenols\n",
    "9) Proanthocyanins\n",
    "10) Color intensity\n",
    "11) Hue\n",
    "12) OD280/OD315 of diluted wines\n",
    "13) Proline \n",
    "\n",
    "https://archive-beta.ics.uci.edu/dataset/186/wine+quality\n",
    "\n",
    "1. fixed acidity\n",
    "2. volatile acidity\n",
    "3. citric acid\n",
    "4 - residual sugar\n",
    "5 - chlorides\n",
    "6 - free sulfur dioxide\n",
    "7 - total sulfur dioxid\n",
    "8 - density\n",
    "9 - pH\n",
    "10 - sulphates\n",
    "11 - alcohol\n",
    "Output variable (based on sensory data): \n",
    "12 - quality (score between 0 and 10)"
   ]
  },
  {
   "cell_type": "code",
   "execution_count": 1,
   "metadata": {},
   "outputs": [],
   "source": [
    "import numpy as np\n",
    "import urllib"
   ]
  },
  {
   "attachments": {},
   "cell_type": "markdown",
   "metadata": {},
   "source": [
    "## Cargar los datos"
   ]
  },
  {
   "cell_type": "code",
   "execution_count": 5,
   "metadata": {},
   "outputs": [
    {
     "name": "stdout",
     "output_type": "stream",
     "text": [
      "2\n",
      "(1599, 12)\n"
     ]
    }
   ],
   "source": [
    "# Forma 1: Leer de URL\n",
    "url = \"https://archive.ics.uci.edu/ml/machine-learning-databases/wine-quality/winequality-red.csv\"\n",
    "response = urllib.request.urlopen(url)\n",
    "data_red = np.genfromtxt(response, delimiter=\";\", skip_header=1)\n",
    "print(data_red.ndim)\n",
    "print(data_red.shape)"
   ]
  },
  {
   "cell_type": "code",
   "execution_count": 28,
   "metadata": {},
   "outputs": [
    {
     "name": "stdout",
     "output_type": "stream",
     "text": [
      "2\n",
      "(1599, 12)\n"
     ]
    }
   ],
   "source": [
    "# Forma 2: Leer de archivo local, no poner dtype=int porque se pierde la parte decimal\n",
    "data_red = np.genfromtxt('../../data/winequality-red.csv', delimiter=\";\", skip_header=1)\n",
    "print(data_red.ndim)\n",
    "print(data_red.shape)"
   ]
  },
  {
   "cell_type": "code",
   "execution_count": 7,
   "metadata": {},
   "outputs": [
    {
     "name": "stdout",
     "output_type": "stream",
     "text": [
      "2\n",
      "(4898, 12)\n"
     ]
    }
   ],
   "source": [
    "data_white = np.genfromtxt('../../data/winequality-white.csv', delimiter=\";\", skip_header=1)\n",
    "print(data_white.ndim)\n",
    "print(data_white.shape)"
   ]
  },
  {
   "cell_type": "code",
   "execution_count": 42,
   "metadata": {},
   "outputs": [
    {
     "name": "stdout",
     "output_type": "stream",
     "text": [
      "mean: 10.42\n",
      "median: 10.2\n",
      "max: 14.9\n",
      "min: 8.4\n",
      "std: 1.07\n"
     ]
    }
   ],
   "source": [
    "# Estadisticas sobre columna alcohol (indice 10) en vinos rojos\n",
    "red_alcohol = data_red[:, 10]\n",
    "\n",
    "print(f\"mean: {np.mean(red_alcohol):.2f}\")\n",
    "# print(f\"mean: {np.around(np.mean(red_alcohol), 2)}\")\n",
    "print(f\"median: {np.median(red_alcohol)}\")\n",
    "print(f\"max: {np.max(red_alcohol)}\")\n",
    "print(f\"min: {np.min(red_alcohol)}\")\n",
    "print(f\"std: {np.std(red_alcohol):.2f}\")\n"
   ]
  },
  {
   "cell_type": "code",
   "execution_count": 43,
   "metadata": {},
   "outputs": [
    {
     "name": "stdout",
     "output_type": "stream",
     "text": [
      "mean: 10.51\n",
      "median: 10.4\n",
      "max: 14.2\n",
      "min: 8.0\n",
      "std: 1.23\n"
     ]
    }
   ],
   "source": [
    "# Estadisticas sobre columna alcohol (indice 10) en vinos blancos\n",
    "white_alcohol = data_white[:, 10]\n",
    "\n",
    "print(f\"mean: {np.mean(white_alcohol):.2f}\")\n",
    "# print(f\"mean: {np.around(np.mean(red_alcohol), 2)}\")\n",
    "print(f\"median: {np.median(white_alcohol)}\")\n",
    "print(f\"max: {np.max(white_alcohol)}\")\n",
    "print(f\"min: {np.min(white_alcohol)}\")\n",
    "print(f\"std: {np.std(white_alcohol):.2f}\")"
   ]
  },
  {
   "cell_type": "code",
   "execution_count": 51,
   "metadata": {},
   "outputs": [
    {
     "data": {
      "text/plain": [
       "(6497, 12)"
      ]
     },
     "execution_count": 51,
     "metadata": {},
     "output_type": "execute_result"
    }
   ],
   "source": [
    "data_all = np.concatenate((data_red, data_white))\n",
    "data_all.shape"
   ]
  },
  {
   "cell_type": "code",
   "execution_count": 52,
   "metadata": {},
   "outputs": [
    {
     "name": "stdout",
     "output_type": "stream",
     "text": [
      "mean: 10.49\n",
      "median: 10.3\n",
      "max: 14.9\n",
      "min: 8.0\n",
      "std: 1.19\n"
     ]
    }
   ],
   "source": [
    "all_alcohol = data_all[:, 10]\n",
    "\n",
    "print(f\"mean: {np.mean(all_alcohol):.2f}\")\n",
    "print(f\"median: {np.median(all_alcohol)}\")\n",
    "print(f\"max: {np.max(all_alcohol)}\")\n",
    "print(f\"min: {np.min(all_alcohol)}\")\n",
    "print(f\"std: {np.std(all_alcohol):.2f}\")"
   ]
  }
 ],
 "metadata": {
  "kernelspec": {
   "display_name": "Python 3",
   "language": "python",
   "name": "python3"
  },
  "language_info": {
   "codemirror_mode": {
    "name": "ipython",
    "version": 3
   },
   "file_extension": ".py",
   "mimetype": "text/x-python",
   "name": "python",
   "nbconvert_exporter": "python",
   "pygments_lexer": "ipython3",
   "version": "3.11.2"
  },
  "orig_nbformat": 4
 },
 "nbformat": 4,
 "nbformat_minor": 2
}
