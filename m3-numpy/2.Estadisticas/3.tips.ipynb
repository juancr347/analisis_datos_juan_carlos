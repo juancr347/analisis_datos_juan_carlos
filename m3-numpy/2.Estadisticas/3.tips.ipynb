{
 "cells": [
  {
   "cell_type": "code",
   "execution_count": 1,
   "metadata": {},
   "outputs": [],
   "source": [
    "import numpy as np"
   ]
  },
  {
   "cell_type": "code",
   "execution_count": 4,
   "metadata": {},
   "outputs": [],
   "source": [
    "total_bill = np.genfromtxt('../../data/tips.csv', \n",
    "                           delimiter=',', skip_header=1, \n",
    "                           usecols=(0), dtype=float)\n",
    "tip = np.genfromtxt('../../data/tips.csv', \n",
    "                           delimiter=',', skip_header=1, \n",
    "                           usecols=(1), dtype=float)\n",
    "genre = np.genfromtxt('../../data/tips.csv', \n",
    "                           delimiter=',', skip_header=1, \n",
    "                           usecols=(2), dtype=str)\n",
    "smoker = np.genfromtxt('../../data/tips.csv', \n",
    "                           delimiter=',', skip_header=1, \n",
    "                           usecols=(3), dtype=str)\n",
    "day = np.genfromtxt('../../data/tips.csv', \n",
    "                           delimiter=',', skip_header=1, \n",
    "                           usecols=(4), dtype=str)\n",
    "time = np.genfromtxt('../../data/tips.csv', \n",
    "                           delimiter=',', skip_header=1, \n",
    "                           usecols=(5), dtype=str)\n",
    "size = np.genfromtxt('../../data/tips.csv', \n",
    "                           delimiter=',', skip_header=1, \n",
    "                           usecols=(6), dtype=int)"
   ]
  },
  {
   "cell_type": "code",
   "execution_count": 7,
   "metadata": {},
   "outputs": [
    {
     "name": "stdout",
     "output_type": "stream",
     "text": [
      "[16.99 10.34 21.01 23.68 24.59]\n",
      "[1.01 1.66 3.5  3.31 3.61]\n",
      "['Female' 'Male' 'Male' 'Male' 'Female']\n",
      "['No' 'No' 'No' 'No' 'No']\n",
      "['Sun' 'Sun' 'Sun' 'Sun' 'Sun']\n",
      "['Dinner' 'Dinner' 'Dinner' 'Dinner' 'Dinner']\n",
      "[2 3 3 2 4]\n"
     ]
    }
   ],
   "source": [
    "print(total_bill[:5])\n",
    "print(tip[:5])\n",
    "print(genre[:5])\n",
    "print(smoker[:5])\n",
    "print(day[:5])\n",
    "print(time[:5])\n",
    "print(size[:5])"
   ]
  },
  {
   "attachments": {},
   "cell_type": "markdown",
   "metadata": {},
   "source": [
    "## Categóricas"
   ]
  },
  {
   "cell_type": "code",
   "execution_count": 8,
   "metadata": {},
   "outputs": [
    {
     "name": "stdout",
     "output_type": "stream",
     "text": [
      "['Female' 'Male']\n",
      "['No' 'Yes']\n",
      "['Fri' 'Sat' 'Sun' 'Thur']\n",
      "['Dinner' 'Lunch']\n"
     ]
    }
   ],
   "source": [
    "print(np.unique(genre))\n",
    "print(np.unique(smoker))\n",
    "print(np.unique(day))\n",
    "print(np.unique(time))"
   ]
  },
  {
   "cell_type": "code",
   "execution_count": 11,
   "metadata": {},
   "outputs": [
    {
     "name": "stdout",
     "output_type": "stream",
     "text": [
      "Counter({'Male': 157, 'Female': 87})\n",
      "Counter({'No': 151, 'Yes': 93})\n",
      "Counter({'Sat': 87, 'Sun': 76, 'Thur': 62, 'Fri': 19})\n",
      "Counter({'Dinner': 176, 'Lunch': 68})\n"
     ]
    }
   ],
   "source": [
    "import collections\n",
    "\n",
    "print(collections.Counter(genre))\n",
    "print(collections.Counter(smoker))\n",
    "print(collections.Counter(day))\n",
    "print(collections.Counter(time))"
   ]
  },
  {
   "cell_type": "code",
   "execution_count": 22,
   "metadata": {},
   "outputs": [
    {
     "data": {
      "text/plain": [
       "array(['Sun', 'Sun', 'Sun', 'Sun', 'Sun'], dtype='<U4')"
      ]
     },
     "execution_count": 22,
     "metadata": {},
     "output_type": "execute_result"
    }
   ],
   "source": [
    "filter = np.logical_or(day == \"Sat\", day == \"Sun\")\n",
    "day[filter][:5]"
   ]
  },
  {
   "cell_type": "code",
   "execution_count": 26,
   "metadata": {},
   "outputs": [
    {
     "data": {
      "text/plain": [
       "array(['Sun', 'Sun', 'Sun', 'Sun', 'Sun'], dtype='<U4')"
      ]
     },
     "execution_count": 26,
     "metadata": {},
     "output_type": "execute_result"
    }
   ],
   "source": [
    "# sabado y domingo\n",
    "day[(day == \"Sat\") | (day == \"Sun\")][:5]"
   ]
  },
  {
   "cell_type": "code",
   "execution_count": 28,
   "metadata": {},
   "outputs": [
    {
     "data": {
      "text/plain": [
       "array(['Thur', 'Thur', 'Thur', 'Thur', 'Thur'], dtype='<U4')"
      ]
     },
     "execution_count": 28,
     "metadata": {},
     "output_type": "execute_result"
    }
   ],
   "source": [
    "# Negando sábado y domingo obtenemos Jueves y Viernes\n",
    "day[~((day == \"Sat\") | (day == \"Sun\"))][:5]"
   ]
  },
  {
   "attachments": {},
   "cell_type": "markdown",
   "metadata": {},
   "source": [
    "## Numéricas"
   ]
  },
  {
   "cell_type": "code",
   "execution_count": 37,
   "metadata": {},
   "outputs": [],
   "source": [
    "from scipy import stats"
   ]
  },
  {
   "cell_type": "code",
   "execution_count": 38,
   "metadata": {},
   "outputs": [
    {
     "name": "stdout",
     "output_type": "stream",
     "text": [
      "mean: 19.79\n",
      "median: 17.795\n",
      "max: 50.81\n",
      "min: 3.07\n",
      "std: 8.884150577771132\n",
      "mode: ModeResult(mode=array([13.42]), count=array([3]))\n"
     ]
    }
   ],
   "source": [
    "# Columna total_bill\n",
    "print(f\"mean: {np.around(np.mean(total_bill), 2)}\")\n",
    "print(f\"median: {np.median(total_bill)}\")\n",
    "print(f\"max: {np.max(total_bill)}\")\n",
    "print(f\"min: {np.min(total_bill)}\")\n",
    "print(f\"std: {np.std(total_bill)}\")\n",
    "# print(f\"mode: {stats.mode(total_bill, keepdims=True)}\")"
   ]
  },
  {
   "cell_type": "code",
   "execution_count": 40,
   "metadata": {},
   "outputs": [
    {
     "name": "stdout",
     "output_type": "stream",
     "text": [
      "mean: 3.0\n",
      "median: 2.9\n",
      "max: 10.0\n",
      "min: 1.0\n",
      "std: 1.3807999538298954\n",
      "mode: ModeResult(mode=array([2.]), count=array([33]))\n"
     ]
    }
   ],
   "source": [
    "# Columna tip\n",
    "print(f\"mean: {np.around(np.mean(tip), 2)}\")\n",
    "print(f\"median: {np.median(tip)}\")\n",
    "print(f\"max: {np.max(tip)}\")\n",
    "print(f\"min: {np.min(tip)}\")\n",
    "print(f\"std: {np.std(tip)}\")\n",
    "print(f\"mode: {stats.mode(tip, keepdims=True)}\")"
   ]
  },
  {
   "cell_type": "code",
   "execution_count": 42,
   "metadata": {},
   "outputs": [
    {
     "name": "stdout",
     "output_type": "stream",
     "text": [
      "mean: 3.0\n",
      "median: 2.0\n",
      "max: 6\n",
      "min: 1\n",
      "std: 0.9491488287193913\n",
      "mode: ModeResult(mode=array([2]), count=array([156]))\n"
     ]
    }
   ],
   "source": [
    "# Columna size\n",
    "print(f\"mean: {np.around(np.mean(size), 0)}\")\n",
    "print(f\"median: {np.median(size)}\")\n",
    "print(f\"max: {np.max(size)}\")\n",
    "print(f\"min: {np.min(size)}\")\n",
    "print(f\"std: {np.std(size)}\")\n",
    "print(f\"mode: {stats.mode(size, keepdims=True)}\")"
   ]
  },
  {
   "cell_type": "code",
   "execution_count": 44,
   "metadata": {},
   "outputs": [
    {
     "data": {
      "text/plain": [
       "244"
      ]
     },
     "execution_count": 44,
     "metadata": {},
     "output_type": "execute_result"
    }
   ],
   "source": [
    "len(tip)"
   ]
  }
 ],
 "metadata": {
  "kernelspec": {
   "display_name": "Python 3",
   "language": "python",
   "name": "python3"
  },
  "language_info": {
   "codemirror_mode": {
    "name": "ipython",
    "version": 3
   },
   "file_extension": ".py",
   "mimetype": "text/x-python",
   "name": "python",
   "nbconvert_exporter": "python",
   "pygments_lexer": "ipython3",
   "version": "3.11.2"
  },
  "orig_nbformat": 4
 },
 "nbformat": 4,
 "nbformat_minor": 2
}
