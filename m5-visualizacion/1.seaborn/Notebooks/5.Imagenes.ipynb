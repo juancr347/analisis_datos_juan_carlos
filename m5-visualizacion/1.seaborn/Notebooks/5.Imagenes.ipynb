{
 "cells": [
  {
   "attachments": {},
   "cell_type": "markdown",
   "metadata": {},
   "source": [
    "## Celda Markdown\n",
    "\n",
    "![introducción](certidevs-logo.png)"
   ]
  }
 ],
 "metadata": {
  "language_info": {
   "name": "python"
  },
  "orig_nbformat": 4
 },
 "nbformat": 4,
 "nbformat_minor": 2
}
