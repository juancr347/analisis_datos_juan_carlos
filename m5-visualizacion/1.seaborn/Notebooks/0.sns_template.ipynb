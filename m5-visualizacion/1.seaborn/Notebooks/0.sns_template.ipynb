{
 "cells": [
  {
   "cell_type": "markdown",
   "metadata": {},
   "source": [
    "# Análisis dataset diamonds"
   ]
  },
  {
   "attachments": {},
   "cell_type": "markdown",
   "metadata": {},
   "source": [
    "## Análisis univariante\n",
    "\n",
    "Gráficos que analizan una variable al mismo tiempo.\n",
    "\n",
    "* sns.displot()\n",
    "* sns.ecdfplot()\n",
    "* sns.countplot()\n",
    "* sns.kdeplot()\n",
    "* sns.rugplot()\n",
    "* sns.countplot()\n",
    "* sns.boxplot"
   ]
  },
  {
   "cell_type": "code",
   "execution_count": null,
   "metadata": {},
   "outputs": [],
   "source": []
  },
  {
   "attachments": {},
   "cell_type": "markdown",
   "metadata": {},
   "source": [
    "## Análisis bivariante\n",
    "\n",
    "Gráficos que analizan dos variables al mismo tiempo.\n",
    "\n",
    "* sns.relplot()\n",
    "* sns.jointplot()\n",
    "* sns.lineplot()\n",
    "* sns.rugplot()\n",
    "* sns.barplot()\n",
    "* sns.boxplot()"
   ]
  },
  {
   "cell_type": "code",
   "execution_count": null,
   "metadata": {},
   "outputs": [],
   "source": []
  },
  {
   "attachments": {},
   "cell_type": "markdown",
   "metadata": {},
   "source": [
    "## Análisis multivariante\n",
    "\n",
    "Gráficos para analizar más de dos variables al mismo tiempo.\n",
    "\n",
    "* sns.boxplot\n",
    "* sns.pairplot()\n",
    "* sns.replot() con hue, col, row, size\n",
    "* sns.heatmap()\n",
    "* sns.clustermap()"
   ]
  }
 ],
 "metadata": {
  "language_info": {
   "name": "python"
  },
  "orig_nbformat": 4
 },
 "nbformat": 4,
 "nbformat_minor": 2
}
